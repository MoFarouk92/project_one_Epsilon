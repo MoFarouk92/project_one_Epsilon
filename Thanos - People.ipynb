{
 "cells": [
  {
   "cell_type": "markdown",
   "metadata": {},
   "source": [
    "<img src=\"thanos.jpg\">"
   ]
  },
  {
   "cell_type": "markdown",
   "metadata": {},
   "source": [
    "# Project 1 - Thanos"
   ]
  },
  {
   "cell_type": "markdown",
   "metadata": {},
   "source": [
    "### 1. Import libraries (os, random, time)"
   ]
  },
  {
   "cell_type": "code",
   "execution_count": 1,
   "metadata": {},
   "outputs": [],
   "source": [
    "import os \n",
    "import random\n",
    "import time "
   ]
  },
  {
   "cell_type": "markdown",
   "metadata": {},
   "source": [
    "### 2. Create function to read all the files (people) from a directory. The function takes the location path as input and returns a list with the files in the folder"
   ]
  },
  {
   "cell_type": "code",
   "execution_count": 10,
   "metadata": {},
   "outputs": [],
   "source": [
    "def get_universe_people(path):\n",
    "    people=os.listdir(path)\n",
    "    return people"
   ]
  },
  {
   "cell_type": "markdown",
   "metadata": {},
   "source": [
    "### 3. Create a list called 'universe' that contains our people"
   ]
  },
  {
   "cell_type": "code",
   "execution_count": 11,
   "metadata": {},
   "outputs": [
    {
     "data": {
      "text/plain": [
       "['Adam Sandler.jpg',\n",
       " 'Angelina Julie.png',\n",
       " 'Ariana Grande.jpeg',\n",
       " 'Ben Affleck.jpg',\n",
       " 'Ben Stiller.jpg',\n",
       " 'Bill Gates.jpg',\n",
       " 'Brad Pitt.jpg',\n",
       " 'Britney Spears.jpg',\n",
       " 'Bruce Lee.jpg',\n",
       " 'Cameron Diaz.jpg',\n",
       " 'Dwayne Johnson.jpg',\n",
       " 'Elon Musk.jpg',\n",
       " 'Elton John.jpg',\n",
       " 'Jack Black.jpg',\n",
       " 'Jackie Chan.jpg',\n",
       " 'Jamie Foxx.jpg',\n",
       " 'Jason Segel.jpg',\n",
       " 'Jason Statham.jpg',\n",
       " 'Jeff Bezos.jpg',\n",
       " 'Jennifer Aniston.jpg',\n",
       " 'Jennifer Lopez.jpg',\n",
       " 'Jerry Seinfeld.jpg',\n",
       " 'Jim Carrey.jpg',\n",
       " 'John Cena.jpg',\n",
       " 'Johnny Depp.jpg',\n",
       " 'Josh Radnor.jpg',\n",
       " 'Julia Roberts.jpg',\n",
       " 'Justin Timberlake.jpg',\n",
       " 'Kate Upton.jpg',\n",
       " 'Keanu Reeves.jpg',\n",
       " 'Kevin Hart.jpg',\n",
       " 'Madonna.jpg',\n",
       " 'Mark Ruffalo.jpg',\n",
       " 'Mark Zuckerberg.jpg',\n",
       " 'Matt Damon.jpg',\n",
       " 'Michael Jackson.jpg',\n",
       " 'Michael Jordan.jpg',\n",
       " 'Mindy Kaling.jpg',\n",
       " 'Miranda Cosgrove.jpg',\n",
       " 'Neil Patrick Harris.jpg',\n",
       " 'Nick Jonas.jpg',\n",
       " 'Nicole Kidman.jpg',\n",
       " 'Paul Rudd.jpg',\n",
       " 'Robin Williams.jpg',\n",
       " 'Steve Carell.jpg',\n",
       " 'Steve Jobs.jpg',\n",
       " 'Sylvester Stallone.jpg',\n",
       " 'Tom Cruise.jpg',\n",
       " 'Will Ferrell.jpg',\n",
       " 'Will Smith.jpg']"
      ]
     },
     "execution_count": 11,
     "metadata": {},
     "output_type": "execute_result"
    }
   ],
   "source": [
    "universe=get_universe_people(\"parallel_universe\")\n",
    "universe\n"
   ]
  },
  {
   "cell_type": "markdown",
   "metadata": {},
   "source": [
    "### 4. Check how many people there are in the universe (length of the list)"
   ]
  },
  {
   "cell_type": "code",
   "execution_count": null,
   "metadata": {},
   "outputs": [],
   "source": []
  },
  {
   "cell_type": "code",
   "execution_count": 12,
   "metadata": {},
   "outputs": [
    {
     "data": {
      "text/plain": [
       "25.0"
      ]
     },
     "execution_count": 12,
     "metadata": {},
     "output_type": "execute_result"
    }
   ],
   "source": [
    "len(universe)/2"
   ]
  },
  {
   "cell_type": "markdown",
   "metadata": {},
   "source": [
    "### 5. When Thanos snaps his hands, he kills half the population. Create a function 'snap' to simulate thanos snapping, deleting half of the images in the universe folder <br> The images should be selected from the list by random. <br> People should be killed with a 1 second interval"
   ]
  },
  {
   "cell_type": "code",
   "execution_count": 13,
   "metadata": {},
   "outputs": [],
   "source": [
    "def snap(universe):\n",
    "    half_of_universe =len(universe) //2\n",
    "    for i in range (half_of_universe):\n",
    "        person=random.choice(universe)\n",
    "        os.remove(\"parallel_universe/\"+ person)\n",
    "        universe.remove(person)\n",
    "        print(f\"Destoryng person:{person}\")\n",
    "        time.sleep(1)\n",
    "    print(\"perfectly balanced , as all things shoud be \")\n",
    "        "
   ]
  },
  {
   "cell_type": "code",
   "execution_count": 14,
   "metadata": {},
   "outputs": [
    {
     "name": "stdout",
     "output_type": "stream",
     "text": [
      "Destoryng person:Will Ferrell.jpg\n",
      "Destoryng person:Elton John.jpg\n",
      "Destoryng person:Jason Segel.jpg\n",
      "Destoryng person:Matt Damon.jpg\n",
      "Destoryng person:Michael Jackson.jpg\n",
      "Destoryng person:Jennifer Lopez.jpg\n",
      "Destoryng person:Tom Cruise.jpg\n",
      "Destoryng person:Ben Stiller.jpg\n",
      "Destoryng person:Dwayne Johnson.jpg\n",
      "Destoryng person:Bill Gates.jpg\n",
      "Destoryng person:Josh Radnor.jpg\n",
      "Destoryng person:Paul Rudd.jpg\n",
      "Destoryng person:Sylvester Stallone.jpg\n",
      "Destoryng person:Ben Affleck.jpg\n",
      "Destoryng person:Ariana Grande.jpeg\n",
      "Destoryng person:Jerry Seinfeld.jpg\n",
      "Destoryng person:Adam Sandler.jpg\n",
      "Destoryng person:Jennifer Aniston.jpg\n",
      "Destoryng person:Jamie Foxx.jpg\n",
      "Destoryng person:Steve Carell.jpg\n",
      "Destoryng person:Robin Williams.jpg\n",
      "Destoryng person:Keanu Reeves.jpg\n",
      "Destoryng person:Britney Spears.jpg\n",
      "Destoryng person:Will Smith.jpg\n",
      "Destoryng person:Elon Musk.jpg\n",
      "perfectly balanced , as all things shoud be \n"
     ]
    }
   ],
   "source": [
    "snap(universe)"
   ]
  },
  {
   "cell_type": "markdown",
   "metadata": {},
   "source": [
    "### 6. Check how the new universe looks"
   ]
  },
  {
   "cell_type": "code",
   "execution_count": null,
   "metadata": {},
   "outputs": [],
   "source": []
  },
  {
   "cell_type": "code",
   "execution_count": null,
   "metadata": {},
   "outputs": [],
   "source": []
  },
  {
   "cell_type": "code",
   "execution_count": null,
   "metadata": {},
   "outputs": [],
   "source": []
  },
  {
   "cell_type": "markdown",
   "metadata": {},
   "source": [
    "### Extra Excercises:\n",
    "\n",
    "- (Medium) Re-implement the Thanos project, but delete the people whose name starts with 'M' or 'N'\n",
    "- (Hard) Re-implement the Thanos project, but delete the people whose LAST name starts with 'C"
   ]
  },
  {
   "cell_type": "markdown",
   "metadata": {},
   "source": [
    "# Great Work!"
   ]
  }
 ],
 "metadata": {
  "kernelspec": {
   "display_name": "Python 3",
   "language": "python",
   "name": "python3"
  },
  "language_info": {
   "codemirror_mode": {
    "name": "ipython",
    "version": 3
   },
   "file_extension": ".py",
   "mimetype": "text/x-python",
   "name": "python",
   "nbconvert_exporter": "python",
   "pygments_lexer": "ipython3",
   "version": "3.10.0"
  }
 },
 "nbformat": 4,
 "nbformat_minor": 2
}
